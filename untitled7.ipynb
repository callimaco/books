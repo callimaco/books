{
  "nbformat": 4,
  "nbformat_minor": 0,
  "metadata": {
    "colab": {
      "provenance": [],
      "authorship_tag": "ABX9TyPd0LpmoInpFvLr9mK8reWe",
      "include_colab_link": true
    },
    "kernelspec": {
      "name": "python3",
      "display_name": "Python 3"
    },
    "language_info": {
      "name": "python"
    }
  },
  "cells": [
    {
      "cell_type": "markdown",
      "metadata": {
        "id": "view-in-github",
        "colab_type": "text"
      },
      "source": [
        "<a href=\"https://colab.research.google.com/github/callimaco/books/blob/master/untitled7.ipynb\" target=\"_parent\"><img src=\"https://colab.research.google.com/assets/colab-badge.svg\" alt=\"Open In Colab\"/></a>"
      ]
    },
    {
      "cell_type": "code",
      "execution_count": null,
      "metadata": {
        "id": "88vE18ywkxW4"
      },
      "outputs": [],
      "source": [
        "hello"
      ]
    },
    {
      "cell_type": "code",
      "source": [
        "OOOOOOOOO dove cazzo sei"
      ],
      "metadata": {
        "id": "WrQusnPIlOUF"
      },
      "execution_count": null,
      "outputs": []
    },
    {
      "cell_type": "code",
      "source": [
        "ddd"
      ],
      "metadata": {
        "id": "YSW75Zsjma8-"
      },
      "execution_count": null,
      "outputs": []
    }
  ]
}